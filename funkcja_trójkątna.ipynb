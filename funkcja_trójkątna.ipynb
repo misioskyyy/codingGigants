{
  "nbformat": 4,
  "nbformat_minor": 0,
  "metadata": {
    "colab": {
      "provenance": [],
      "authorship_tag": "ABX9TyMj9jTOD6xkr8C2iMG3bZYa",
      "include_colab_link": true
    },
    "kernelspec": {
      "name": "python3",
      "display_name": "Python 3"
    },
    "language_info": {
      "name": "python"
    }
  },
  "cells": [
    {
      "cell_type": "markdown",
      "metadata": {
        "id": "view-in-github",
        "colab_type": "text"
      },
      "source": [
        "<a href=\"https://colab.research.google.com/github/misioskyyy/codingGigants/blob/main/funkcja_tr%C3%B3jk%C4%85tna.ipynb\" target=\"_parent\"><img src=\"https://colab.research.google.com/assets/colab-badge.svg\" alt=\"Open In Colab\"/></a>"
      ]
    },
    {
      "cell_type": "code",
      "execution_count": 16,
      "metadata": {
        "id": "wXjpVXPWvm7p",
        "colab": {
          "base_uri": "https://localhost:8080/"
        },
        "outputId": "256c0e9c-5210-4be1-916e-e7c8ecf7df7a"
      },
      "outputs": [
        {
          "output_type": "stream",
          "name": "stdout",
          "text": [
            "Requirement already satisfied: scikit-fuzzy in /usr/local/lib/python3.11/dist-packages (0.5.0)\n",
            "Requirement already satisfied: scikit-learn in /usr/local/lib/python3.11/dist-packages (1.6.1)\n",
            "Requirement already satisfied: numpy>=1.19.5 in /usr/local/lib/python3.11/dist-packages (from scikit-learn) (2.0.2)\n",
            "Requirement already satisfied: scipy>=1.6.0 in /usr/local/lib/python3.11/dist-packages (from scikit-learn) (1.15.3)\n",
            "Requirement already satisfied: joblib>=1.2.0 in /usr/local/lib/python3.11/dist-packages (from scikit-learn) (1.5.0)\n",
            "Requirement already satisfied: threadpoolctl>=3.1.0 in /usr/local/lib/python3.11/dist-packages (from scikit-learn) (3.6.0)\n"
          ]
        }
      ],
      "source": [
        "!pip install scikit-fuzzy scikit-learn"
      ]
    },
    {
      "cell_type": "code",
      "source": [
        "import numpy as np\n",
        "import pandas as pd\n",
        "import matplotlib as plt\n",
        "import seaborn as sns\n",
        "from sklearn.datasets import load_iris\n",
        "from sklearn.model_selection import train_test_split\n"
      ],
      "metadata": {
        "id": "Bjj09bWMuskE"
      },
      "execution_count": 15,
      "outputs": []
    },
    {
      "cell_type": "code",
      "source": [
        "iris = load_iris()\n",
        "\n",
        "#print(iris)\n",
        "df = pd.DataFrame(iris.data, columns=iris.feature_names)\n",
        "#print(df)\n",
        "ddd = df['species'] = pd.Categorical.from_codes(iris.target, iris.target_names)\n",
        "\n",
        "df_train, df_test = train_test_split(df, test_size=0.3, random_state=42)\n",
        "\n",
        "feature = ['sepal lengh (cm)', 'sepal width (cm)', 'petal length (cm)', 'petal width (cm)']\n",
        "\n",
        "spiecies = iris.target_names\n",
        "\n",
        "plt.figure(figsize=(16, 11))\n",
        "\n",
        "for i, feature in enumerate(feature, 1):\n",
        "    plt.subplot(2, 2, i)\n",
        "    sns.histplot(\n",
        "        data=df_train,\n",
        "        x=feature,\n",
        "        hue='spices',\n",
        "    )\n",
        "\n",
        "    plt.title(f'Histogram of {feature}, train 70%')\n",
        "    plt.xlabr(feature)\n",
        "    plt.ylabe('Count')\n",
        "\n",
        "plt.tight_layout\n",
        "plt.show()\n",
        "\n",
        "def analize_kde(values):\n",
        "  kde = gaussian_kde(values)\n",
        "  x_eval = np.linespace(values.min(), values.max(), 500)\n",
        "  y_eval = kde(x_eval)\n",
        "\n",
        "  peek = x_eval(np.argmax(y_eval))\n",
        "  print(f'Peak: {peek}')\n",
        "\n",
        "  return x_eval[0], y_eval[1]\n",
        "\n",
        "result = {}\n",
        "for feature in features:\n",
        "  result[feature] = {}\n",
        "\n",
        "  for spiecie in spiecies:\n",
        "    vals = df[df['species']] == spiecie[feature].values\n",
        "    start, peak, end = analize_kde(vals)\n",
        "    results[feature][spiecie] = {\n",
        "        \"start\":start,\n",
        "        \"peak\":peak,\n",
        "        \"end\":end\n",
        "    }\n",
        "\n",
        "sumary_df = pd.DataFrame([{\"feature\": f, \"Spiecies\": s, ** vals}\n",
        "for f, d in results.items])\n",
        "\n",
        "print(result)\n"
      ],
      "metadata": {
        "colab": {
          "base_uri": "https://localhost:8080/",
          "height": 211
        },
        "id": "wvIz0muCvULX",
        "outputId": "c7f82bb6-b35e-43e2-85af-b13fa67e814a"
      },
      "execution_count": 20,
      "outputs": [
        {
          "output_type": "error",
          "ename": "TypeError",
          "evalue": "'module' object is not callable",
          "traceback": [
            "\u001b[0;31m---------------------------------------------------------------------------\u001b[0m",
            "\u001b[0;31mTypeError\u001b[0m                                 Traceback (most recent call last)",
            "\u001b[0;32m<ipython-input-20-0905bb49ea9f>\u001b[0m in \u001b[0;36m<cell line: 0>\u001b[0;34m()\u001b[0m\n\u001b[1;32m     12\u001b[0m \u001b[0mspiecies\u001b[0m \u001b[0;34m=\u001b[0m \u001b[0miris\u001b[0m\u001b[0;34m.\u001b[0m\u001b[0mtarget_names\u001b[0m\u001b[0;34m\u001b[0m\u001b[0;34m\u001b[0m\u001b[0m\n\u001b[1;32m     13\u001b[0m \u001b[0;34m\u001b[0m\u001b[0m\n\u001b[0;32m---> 14\u001b[0;31m \u001b[0mplt\u001b[0m\u001b[0;34m.\u001b[0m\u001b[0mfigure\u001b[0m\u001b[0;34m(\u001b[0m\u001b[0mfiguresize\u001b[0m\u001b[0;34m=\u001b[0m\u001b[0;34m(\u001b[0m\u001b[0;36m16\u001b[0m\u001b[0;34m,\u001b[0m \u001b[0;36m11\u001b[0m\u001b[0;34m)\u001b[0m\u001b[0;34m)\u001b[0m\u001b[0;34m\u001b[0m\u001b[0;34m\u001b[0m\u001b[0m\n\u001b[0m\u001b[1;32m     15\u001b[0m \u001b[0;34m\u001b[0m\u001b[0m\n\u001b[1;32m     16\u001b[0m \u001b[0;32mfor\u001b[0m \u001b[0mi\u001b[0m\u001b[0;34m,\u001b[0m \u001b[0mfeature\u001b[0m \u001b[0;32min\u001b[0m \u001b[0menumerate\u001b[0m\u001b[0;34m(\u001b[0m\u001b[0mfeature\u001b[0m\u001b[0;34m,\u001b[0m \u001b[0;36m1\u001b[0m\u001b[0;34m)\u001b[0m\u001b[0;34m:\u001b[0m\u001b[0;34m\u001b[0m\u001b[0;34m\u001b[0m\u001b[0m\n",
            "\u001b[0;31mTypeError\u001b[0m: 'module' object is not callable"
          ]
        }
      ]
    }
  ]
}