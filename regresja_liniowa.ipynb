{
  "nbformat": 4,
  "nbformat_minor": 0,
  "metadata": {
    "colab": {
      "provenance": [],
      "authorship_tag": "ABX9TyPVnnpiGLKNHN1bw+uhkRy2",
      "include_colab_link": true
    },
    "kernelspec": {
      "name": "python3",
      "display_name": "Python 3"
    },
    "language_info": {
      "name": "python"
    }
  },
  "cells": [
    {
      "cell_type": "markdown",
      "metadata": {
        "id": "view-in-github",
        "colab_type": "text"
      },
      "source": [
        "<a href=\"https://colab.research.google.com/github/misioskyyy/codingGigants/blob/main/regresja_liniowa.ipynb\" target=\"_parent\"><img src=\"https://colab.research.google.com/assets/colab-badge.svg\" alt=\"Open In Colab\"/></a>"
      ]
    },
    {
      "cell_type": "code",
      "execution_count": null,
      "metadata": {
        "id": "AYx8j3uzkory"
      },
      "outputs": [],
      "source": [
        "import numpy as np\n",
        "import matplotlib.pyplot as plt\n",
        "\n",
        "# enable \"random\"\n",
        "np.random.seed(42)\n",
        "\n",
        "# generowanie 100 punktów osi x, każdy punkt w zakresie od 0 do 75, równomiernie\n",
        "x = np.linspace(0, 75, 100)\n",
        "\n",
        "noise = np.random.randint(-25, 25, 100)\n",
        "\n",
        "y = 2 * x - 15 + noise\n",
        "\n",
        "def regression(x, y):\n",
        "    n = len(x) # get the number of data points\n",
        "\n",
        "    suma_x_y = 0\n",
        "    suma_x = sum(x)\n",
        "    suma_y = sum(y)\n",
        "    suma_x_kwadrat = sum(xi**2 for xi in x) # sum of squares of x values\n",
        "\n",
        "    for x_val, y_val in zip(x, y):\n",
        "        suma_x_y += x_val * y_val # accumulate product of x and y\n",
        "\n",
        "    # Corrected formula for 'a'\n",
        "    a = (n * suma_x_y - (suma_x * suma_y)) / (n * suma_x_kwadrat - suma_x**2)\n",
        "    b = (suma_y - a * suma_x) / n\n",
        "\n",
        "    print(f\"a = {a}, b = {b}\")\n",
        "    return a, b  # Return the calculated 'a' and 'b'\n",
        "\n",
        "\n",
        "a, b = regression(x, y)  # Get the values of 'a' and 'b'\n",
        "\n",
        "plt.scatter(x, y)  # Create the scatter plot\n",
        "\n",
        "# Create the regression line\n",
        "regression_line = a * x + b\n",
        "plt.plot(x, regression_line, color='red')  # Plot the line in red\n",
        "\n",
        "plt.show()  # Display the plot"
      ]
    }
  ]
}