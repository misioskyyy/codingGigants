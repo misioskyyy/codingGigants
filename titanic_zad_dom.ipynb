{
  "nbformat": 4,
  "nbformat_minor": 0,
  "metadata": {
    "colab": {
      "provenance": [],
      "include_colab_link": true
    },
    "kernelspec": {
      "name": "python3",
      "display_name": "Python 3"
    },
    "language_info": {
      "name": "python"
    }
  },
  "cells": [
    {
      "cell_type": "markdown",
      "metadata": {
        "id": "view-in-github",
        "colab_type": "text"
      },
      "source": [
        "<a href=\"https://colab.research.google.com/github/misioskyyy/codingGigants/blob/main/titanic_zad_dom.ipynb\" target=\"_parent\"><img src=\"https://colab.research.google.com/assets/colab-badge.svg\" alt=\"Open In Colab\"/></a>"
      ]
    },
    {
      "cell_type": "code",
      "execution_count": null,
      "metadata": {
        "colab": {
          "base_uri": "https://localhost:8080/"
        },
        "id": "8OUy1M_ziBTW",
        "outputId": "02cffc3b-d568-4f3a-c518-929e676be3e3"
      },
      "outputs": [
        {
          "output_type": "stream",
          "name": "stdout",
          "text": [
            "    survived  pclass     sex   age  sibsp  parch     fare embarked   class  \\\n",
            "0          0       3    male  22.0      1      0   7.2500        S   Third   \n",
            "1          1       1  female  38.0      1      0  71.2833        C   First   \n",
            "2          1       3  female  26.0      0      0   7.9250        S   Third   \n",
            "3          1       1  female  35.0      1      0  53.1000        S   First   \n",
            "4          0       3    male  35.0      0      0   8.0500        S   Third   \n",
            "..       ...     ...     ...   ...    ...    ...      ...      ...     ...   \n",
            "95         0       3    male   NaN      0      0   8.0500        S   Third   \n",
            "96         0       1    male  71.0      0      0  34.6542        C   First   \n",
            "97         1       1    male  23.0      0      1  63.3583        C   First   \n",
            "98         1       2  female  34.0      0      1  23.0000        S  Second   \n",
            "99         0       2    male  34.0      1      0  26.0000        S  Second   \n",
            "\n",
            "      who  adult_male deck  embark_town alive  alone  \n",
            "0     man        True  NaN  Southampton    no  False  \n",
            "1   woman       False    C    Cherbourg   yes  False  \n",
            "2   woman       False  NaN  Southampton   yes   True  \n",
            "3   woman       False    C  Southampton   yes  False  \n",
            "4     man        True  NaN  Southampton    no   True  \n",
            "..    ...         ...  ...          ...   ...    ...  \n",
            "95    man        True  NaN  Southampton    no   True  \n",
            "96    man        True    A    Cherbourg    no   True  \n",
            "97    man        True    D    Cherbourg   yes  False  \n",
            "98  woman       False  NaN  Southampton   yes  False  \n",
            "99    man        True  NaN  Southampton    no  False  \n",
            "\n",
            "[100 rows x 15 columns]\n"
          ]
        }
      ],
      "source": [
        "import pandas as pd\n",
        "import seaborn as sns\n",
        "import matplotlib.pyplot as plt\n",
        "import numpy as np\n",
        "from sklearn.model_selection import train_test_split\n",
        "from sklearn.linear_model import LogisticRegression\n",
        "from sklearn.metrics import accuracy_score, precision_score, recall_score, f1_score, classification_report\n",
        "\n",
        "df = sns.load_dataset('titanic')\n",
        "print(df.head(100))"
      ]
    },
    {
      "cell_type": "code",
      "source": [
        "#niska (1/3 - rozbieznosci)\n",
        "#srednia (2/3-robierznosc)\n",
        "#wysoka (3/3-rozbirnozśc)\n",
        "\n",
        "def categorize_fare(fare, fare_ranges):\n",
        "  if(fare<=fare_ranges[0]):\n",
        "    return 0\n",
        "  elif(fare>fare_ranges[0] and fare<=fare_ranges[1]):\n",
        "    return 1\n",
        "  else:\n",
        "    return 2\n",
        "\n",
        "min_fare = df['fare'].min()\n",
        "max_fare = df['fare'].max()\n",
        "\n",
        "fare_step = (max_fare - min_fare) / 3\n",
        "#print(fare_step)\n",
        "fare_ranges = [min_fare + fare_step, min_fare + 2 * fare_step]\n",
        "#print(fare_ranges)\n",
        "\n",
        "print(\"Przedziały cenowe biletów:\")\n",
        "print(f\"Niska: {min_fare} - {fare_ranges[0]}\")\n",
        "print(f\"Średnia: {fare_ranges[0]} - {fare_ranges[1]}\")\n",
        "print(f\"Wysoka: {fare_ranges[1]} - {max_fare}\")\n",
        "\n",
        "\n"
      ],
      "metadata": {
        "colab": {
          "base_uri": "https://localhost:8080/"
        },
        "id": "v-nrfGujqtXu",
        "outputId": "7e909122-0bd2-4162-8e5c-44304cb1639a"
      },
      "execution_count": null,
      "outputs": [
        {
          "output_type": "stream",
          "name": "stdout",
          "text": [
            "Przedziały cenowe biletów:\n",
            "Niska: 0.0 - 170.7764\n",
            "Średnia: 170.7764 - 341.5528\n",
            "Wysoka: 341.5528 - 512.3292\n"
          ]
        }
      ]
    },
    {
      "cell_type": "code",
      "source": [
        "# selekcja cech - krok 4\n",
        "\n",
        "# sex - płec\n",
        "# age - wiek\n",
        "# fare_range - wskaznik statusu ekonomicznego (nowy, nasz autorski!!!!!)\n",
        "# pclass - bezpośredni dostep do łodzi ratunkowych\n",
        "\n",
        "selected_feature = ['sex', 'age', 'pclass', 'fare_range']\n",
        "df_model = df.copy()\n",
        "df_model['sex'] = df_model['sex'].map({'male': 0, 'female': 1})\n",
        "df_model['fare_range'] = df_model['fare'].apply(lambda x: categorize_fare(x, fare_ranges))\n",
        "\n",
        "\n",
        "\n",
        "X = df_model[selected_feature]\n",
        "y = df_model['survived']\n",
        "\n",
        "X_train, X_test, y_train, y_test = train_test_split(X, y, test_size=0.2, random_state=42)\n",
        "\n",
        "# Remove rows with NaN values from training and testing data\n",
        "X_train = X_train.dropna()\n",
        "y_train = y_train[X_train.index]  # Align y_train with X_train after dropna\n",
        "X_test = X_test.dropna()\n",
        "y_test = y_test[X_test.index]    # Align y_test with X_test after dropna"
      ],
      "metadata": {
        "id": "ECEsyeBlqvj2"
      },
      "execution_count": null,
      "outputs": []
    },
    {
      "cell_type": "code",
      "source": [
        "# trenownaie modelu\n",
        "model = LogisticRegression(random_state=42)\n",
        "model.fit(X_train, y_train)\n",
        "\n",
        "y_pred = model.predict(X_test)\n",
        "print(accuracy_score(y_test, y_pred))"
      ],
      "metadata": {
        "colab": {
          "base_uri": "https://localhost:8080/"
        },
        "id": "4uMPufSiwvOa",
        "outputId": "84ab4ae0-0e2e-49ad-bad3-e121f6b5bc77"
      },
      "execution_count": null,
      "outputs": [
        {
          "output_type": "stream",
          "name": "stdout",
          "text": [
            "0.8169014084507042\n"
          ]
        }
      ]
    },
    {
      "cell_type": "code",
      "source": [
        "# 7 analiza metryk\n",
        "\n",
        "y_pred = model.predict(X_test)\n",
        "\n",
        "# 7 analiza metryk\n",
        "accuracy = accuracy_score(y_test, y_pred)\n",
        "precision = precision_score(y_test, y_pred)\n",
        "recall = recall_score(y_test, y_pred)\n",
        "f1 = f1_score(y_test, y_pred)\n",
        "classification_rep = classification_report(y_test, y_pred)\n",
        "\n",
        "\n",
        "print(f\"Accuracy: {accuracy}\")\n",
        "print(f\"Precision: {precision}\")\n",
        "print(f\"Recall: {recall}\")\n",
        "print(f\"F1-score: {f1}\")\n",
        "print(\"Classification Report:\\n\", classification_rep)"
      ],
      "metadata": {
        "colab": {
          "base_uri": "https://localhost:8080/"
        },
        "id": "4_XG5mr_ykB3",
        "outputId": "829a4546-7a76-4fac-c610-72fd8e60d4c0"
      },
      "execution_count": null,
      "outputs": [
        {
          "output_type": "stream",
          "name": "stdout",
          "text": [
            "Accuracy: 0.8169014084507042\n",
            "Precision: 0.7962962962962963\n",
            "Recall: 0.7413793103448276\n",
            "F1-score: 0.7678571428571429\n",
            "Classification Report:\n",
            "               precision    recall  f1-score   support\n",
            "\n",
            "           0       0.83      0.87      0.85        84\n",
            "           1       0.80      0.74      0.77        58\n",
            "\n",
            "    accuracy                           0.82       142\n",
            "   macro avg       0.81      0.81      0.81       142\n",
            "weighted avg       0.82      0.82      0.82       142\n",
            "\n"
          ]
        }
      ]
    },
    {
      "cell_type": "code",
      "source": [
        "# interaktywne prognozowanie"
      ],
      "metadata": {
        "id": "Nf1VV9l8y5Zf"
      },
      "execution_count": null,
      "outputs": []
    },
    {
      "cell_type": "code",
      "source": [],
      "metadata": {
        "id": "uScJ-z0Zy-tG"
      },
      "execution_count": null,
      "outputs": []
    }
  ]
}